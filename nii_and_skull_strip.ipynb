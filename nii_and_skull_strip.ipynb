{
 "cells": [
  {
   "cell_type": "code",
   "execution_count": 1,
   "metadata": {},
   "outputs": [],
   "source": [
    "import os \n",
    "import SimpleITK as sitk\n",
    "import pydicom\n",
    "import subprocess"
   ]
  },
  {
   "cell_type": "code",
   "execution_count": 2,
   "metadata": {},
   "outputs": [],
   "source": [
    "def convert_dicom_to_nifti(dicom_folder, output_path):\n",
    "    \"\"\"\n",
    "    DICOM 폴더를 NIfTI 형식으로 변환하는 함수.\n",
    "\n",
    "    Parameters:\n",
    "        dicom_folder (str): DICOM 파일이 들어 있는 폴더 경로.\n",
    "        output_path (str): 변환된 NIfTI 파일 저장 경로 (.nii 또는 .nii.gz).\n",
    "\n",
    "    Returns:\n",
    "        None\n",
    "    \"\"\"\n",
    "    try:\n",
    "        # DICOM 시리즈 읽기\n",
    "        reader = sitk.ImageSeriesReader()\n",
    "        dicom_series = reader.GetGDCMSeriesFileNames(dicom_folder)\n",
    "        if not dicom_series:\n",
    "            raise ValueError(\"DICOM 시리즈를 찾을 수 없습니다. 경로를 확인하세요.\")\n",
    "        \n",
    "        reader.SetFileNames(dicom_series)\n",
    "        \n",
    "        # DICOM 데이터를 SimpleITK 이미지 객체로 변환\n",
    "        image = reader.Execute()\n",
    "        \n",
    "        # NIfTI 형식으로 저장\n",
    "        sitk.WriteImage(image, output_path)\n",
    "        print(f\"변환 완료: {output_path}\")\n",
    "    except Exception as e:\n",
    "        print(f\"에러 발생: {e}\")"
   ]
  },
  {
   "cell_type": "code",
   "execution_count": null,
   "metadata": {},
   "outputs": [
    {
     "name": "stdout",
     "output_type": "stream",
     "text": [
      "변환 완료: output_file.nii.gz\n"
     ]
    }
   ],
   "source": [
    "# DICOM 폴더 경로와 출력 NIfTI 파일 경로 설정\n",
    "dicom_folder_path = 'Data/002_S_6007/2017-03-31/1. Accelerated_Sagittal_MPRAGE/I835740'\n",
    "output_nii_path = \"output_file.nii.gz\"  # .nii 또는 .nii.gz\n",
    "stripped_output_path = \"stripped/\"\n",
    "\n",
    "# 변환 실행\n",
    "convert_dicom_to_nifti(dicom_folder_path, output_nii_path)"
   ]
  },
  {
   "cell_type": "code",
   "execution_count": null,
   "metadata": {},
   "outputs": [],
   "source": [
    "def skull_strip_with_synthstrip(input_nifti_path, output_nifti_path):\n",
    "    \"\"\"\n",
    "    Freesurfer의 mri_synthstrip를 이용해 Skull Stripping을 수행하는 함수.\n",
    "\n",
    "    Parameters:\n",
    "        input_nifti_path (str): 입력 NIfTI 파일 경로.\n",
    "        output_nifti_path (str): Skull Stripping 결과 저장 경로.\n",
    "\n",
    "    Returns:\n",
    "        None\n",
    "    \"\"\"\n",
    "    try:\n",
    "        subprocess.run(\n",
    "            [\n",
    "                \"mri_synthstrip\",  # Freesurfer의 mri_synthstrip 명령\n",
    "                \"--i\", input_nifti_path,  # 입력 NIfTI 파일\n",
    "                \"--o\", output_nifti_path  # 출력 NIfTI 파일\n",
    "            ],\n",
    "            check=True\n",
    "        )\n",
    "        print(f\"Skull stripping 완료: {output_nifti_path}\")\n",
    "    except subprocess.CalledProcessError as e:\n",
    "        print(f\"Skull stripping 에러 발생: {e}\")"
   ]
  },
  {
   "cell_type": "code",
   "execution_count": null,
   "metadata": {},
   "outputs": [],
   "source": []
  }
 ],
 "metadata": {
  "kernelspec": {
   "display_name": "nrf",
   "language": "python",
   "name": "python3"
  },
  "language_info": {
   "codemirror_mode": {
    "name": "ipython",
    "version": 3
   },
   "file_extension": ".py",
   "mimetype": "text/x-python",
   "name": "python",
   "nbconvert_exporter": "python",
   "pygments_lexer": "ipython3",
   "version": "3.10.16"
  }
 },
 "nbformat": 4,
 "nbformat_minor": 2
}
