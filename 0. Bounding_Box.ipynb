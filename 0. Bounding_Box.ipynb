{
 "cells": [
  {
   "cell_type": "code",
   "execution_count": 1,
   "metadata": {},
   "outputs": [],
   "source": [
    "import os\n",
    "import nibabel as nib\n",
    "import numpy as np\n",
    "from tqdm import tqdm"
   ]
  },
  {
   "cell_type": "code",
   "execution_count": 2,
   "metadata": {},
   "outputs": [
    {
     "name": "stdout",
     "output_type": "stream",
     "text": [
      "Found 2202 NIfTI files in niis/ADNI3\n"
     ]
    },
    {
     "name": "stderr",
     "output_type": "stream",
     "text": [
      "Processing NIfTI files: 100%|██████████| 2202/2202 [20:02<00:00,  1.83it/s]\n"
     ]
    },
    {
     "name": "stdout",
     "output_type": "stream",
     "text": [
      "Common bounding box: min=[55 23 18], max=[226 230 149]\n"
     ]
    },
    {
     "name": "stderr",
     "output_type": "stream",
     "text": [
      "Cropping and saving NIfTI files: 100%|██████████| 2202/2202 [12:51<00:00,  2.86it/s]"
     ]
    },
    {
     "name": "stdout",
     "output_type": "stream",
     "text": [
      "Cropping and saving completed!\n"
     ]
    },
    {
     "name": "stderr",
     "output_type": "stream",
     "text": [
      "\n"
     ]
    }
   ],
   "source": [
    "def get_bounding_box(volume):\n",
    "    \"\"\"\n",
    "    입력 3D 볼륨에서 비검은 영역의 최소/최대 인덱스를 계산합니다.\n",
    "    \"\"\"\n",
    "    non_zero_coords = np.argwhere(volume > 0)  # 0이 아닌 값의 좌표 찾기\n",
    "    min_coords = non_zero_coords.min(axis=0)  # 최소 좌표\n",
    "    max_coords = non_zero_coords.max(axis=0)  # 최대 좌표\n",
    "    return min_coords, max_coords\n",
    "\n",
    "def calculate_common_bounding_box(folder_path):\n",
    "    \"\"\"\n",
    "    주어진 폴더 내의 모든 NIfTI 파일에 대해 공통적으로 사용할 수 있는 최소 크기의 bounding box를 계산합니다.\n",
    "    \"\"\"\n",
    "    min_coords = None\n",
    "    max_coords = None\n",
    "\n",
    "    nii_files = [os.path.join(folder_path, f) for f in os.listdir(folder_path) if f.endswith('.nii') or f.endswith('.nii.gz')]\n",
    "    print(f\"Found {len(nii_files)} NIfTI files in {folder_path}\")\n",
    "\n",
    "    for nii_file in tqdm(nii_files, desc=\"Processing NIfTI files\"):\n",
    "        # NIfTI 파일 로드\n",
    "        nii_data = nib.load(nii_file).get_fdata()\n",
    "\n",
    "        # Bounding Box 계산\n",
    "        file_min, file_max = get_bounding_box(nii_data)\n",
    "\n",
    "        if min_coords is None and max_coords is None:\n",
    "            # 첫 번째 파일에서 초기화\n",
    "            min_coords = file_min\n",
    "            max_coords = file_max\n",
    "        else:\n",
    "            # 모든 파일에 대한 공통 영역 계산\n",
    "            min_coords = np.maximum(min_coords, file_min)  # 최소 좌표를 더 큰 값으로 업데이트\n",
    "            max_coords = np.minimum(max_coords, file_max)  # 최대 좌표를 더 작은 값으로 업데이트\n",
    "\n",
    "    # 최종 Bounding Box 반환\n",
    "    return min_coords, max_coords\n",
    "\n",
    "def crop_and_save(folder_path, output_folder, min_coords, max_coords):\n",
    "    \"\"\"\n",
    "    공통 bounding box를 기준으로 모든 NIfTI 파일을 잘라낸 뒤 저장합니다.\n",
    "    \"\"\"\n",
    "    os.makedirs(output_folder, exist_ok=True)\n",
    "\n",
    "    nii_files = [os.path.join(folder_path, f) for f in os.listdir(folder_path) if f.endswith('.nii') or f.endswith('.nii.gz')]\n",
    "    for nii_file in tqdm(nii_files, desc=\"Cropping and saving NIfTI files\"):\n",
    "        # NIfTI 파일 로드\n",
    "        nii = nib.load(nii_file)\n",
    "        nii_data = nii.get_fdata()\n",
    "\n",
    "        # 데이터 크롭\n",
    "        cropped_data = nii_data[\n",
    "            min_coords[0]:max_coords[0]+1,\n",
    "            min_coords[1]:max_coords[1]+1,\n",
    "            min_coords[2]:max_coords[2]+1\n",
    "        ]\n",
    "\n",
    "        # 저장\n",
    "        cropped_nii = nib.Nifti1Image(cropped_data, nii.affine, nii.header)\n",
    "        output_path = os.path.join(output_folder, os.path.basename(nii_file))\n",
    "        nib.save(cropped_nii, output_path)\n",
    "\n",
    "# 사용 예시\n",
    "folder_path = \"niis/ADNI3\"  # NIfTI 파일들이 있는 폴더 경로\n",
    "output_folder = \"niis_cropped/ADNI#\"  # 잘라낸 결과를 저장할 폴더 경로\n",
    "\n",
    "# 1. 공통 Bounding Box 계산\n",
    "min_coords, max_coords = calculate_common_bounding_box(folder_path)\n",
    "print(f\"Common bounding box: min={min_coords}, max={max_coords}\")\n",
    "\n",
    "# 2. 크롭 및 저장\n",
    "crop_and_save(folder_path, output_folder, min_coords, max_coords)\n",
    "print(\"Cropping and saving completed!\")"
   ]
  }
 ],
 "metadata": {
  "kernelspec": {
   "display_name": "nrf2",
   "language": "python",
   "name": "python3"
  },
  "language_info": {
   "codemirror_mode": {
    "name": "ipython",
    "version": 3
   },
   "file_extension": ".py",
   "mimetype": "text/x-python",
   "name": "python",
   "nbconvert_exporter": "python",
   "pygments_lexer": "ipython3",
   "version": "3.10.16"
  }
 },
 "nbformat": 4,
 "nbformat_minor": 2
}
