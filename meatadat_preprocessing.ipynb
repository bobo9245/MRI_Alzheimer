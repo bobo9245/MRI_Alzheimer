{
 "cells": [
  {
   "cell_type": "code",
   "execution_count": 3,
   "metadata": {},
   "outputs": [],
   "source": [
    "import pandas as pd\n",
    "import numpy as np"
   ]
  },
  {
   "cell_type": "code",
   "execution_count": 42,
   "metadata": {},
   "outputs": [],
   "source": [
    "ADNI3_USB2=\"niis/ADNI3/USB2/patient_mri_mapping.csv\"\n",
    "ADNI3_USB1=\"niis/ADNI3/USB1/patient_mri_mapping.csv\"\n",
    "ADNI4=\"niis/ADNI4/patient_mri_mapping.csv\"\n",
    "PATIENTS=\"patient_information.csv\"\n",
    "\n",
    "data1=pd.read_csv(ADNI4)\n",
    "data2=pd.read_csv(PATIENTS)\n"
   ]
  },
  {
   "cell_type": "code",
   "execution_count": 43,
   "metadata": {},
   "outputs": [
    {
     "name": "stdout",
     "output_type": "stream",
     "text": [
      "결합된 데이터가 'merged_output.csv'에 저장되었습니다.\n"
     ]
    }
   ],
   "source": [
    "# VISDATE가 날짜 형식인지 확인하는 함수\n",
    "def is_date_format(date):\n",
    "    try:\n",
    "        pd.to_datetime(date, format=\"%Y-%m-%d\")  # 기본 형식 가정\n",
    "        return True\n",
    "    except ValueError:\n",
    "        return False\n",
    "\n",
    "# VISDATE 날짜 형식 확인\n",
    "data1[\"Valid_VISDATE\"] = data1[\"VISDATE\"].apply(is_date_format)\n",
    "\n",
    "# 조건 1: VISDATE가 유효하지 않은 경우 PTID 기준 join\n",
    "data_invalid_visdate = data1[~data1[\"Valid_VISDATE\"]]\n",
    "result_invalid = pd.merge(\n",
    "    data_invalid_visdate.drop(columns=[\"VISDATE\"]),\n",
    "    data2,\n",
    "    how=\"left\",\n",
    "    on=\"PTID\"\n",
    ")\n",
    "result_invalid[\"MRIDATE\"] = None  # VISDATE가 날짜 형식이 아니므로 MRIDATE는 공란\n",
    "\n",
    "# 조건 2: VISDATE가 유효한 경우 PTID와 VISDATE==MRI 기준 join\n",
    "data_valid_visdate = data1[data1[\"Valid_VISDATE\"]]\n",
    "result_valid = pd.merge(\n",
    "    data_valid_visdate,\n",
    "    data2,\n",
    "    how=\"left\",\n",
    "    left_on=[\"PTID\", \"VISDATE\"],\n",
    "    right_on=[\"PTID\", \"MRI\"]\n",
    ")\n",
    "result_valid[\"MRIDATE\"] = result_valid[\"MRI\"]  # MRIDATE에 MRI 값 설정\n",
    "\n",
    "# 조건별 결과 합치기\n",
    "final_result = pd.concat([result_invalid, result_valid], ignore_index=True)\n",
    "\n",
    "# 열 정리\n",
    "final_result = final_result[[\"PHASE\", \"PTID\", \"MRI Number\", \"MRIDATE\", \"생년월일\", \"education\", \"MMSCORE\"]]\n",
    "final_result.rename(columns={\"MRINumber\": \"MRIID\"}, inplace=True)\n",
    "\n",
    "# education과 MMSCORE를 int로 변환\n",
    "final_result[\"education\"] = pd.to_numeric(final_result[\"education\"], errors=\"coerce\").fillna(0).astype(int)\n",
    "final_result[\"MMSCORE\"] = pd.to_numeric(final_result[\"MMSCORE\"], errors=\"coerce\").fillna(0).astype(int)\n",
    "\n",
    "# 결과 저장\n",
    "final_result.to_csv(\"merged_output.csv\", index=False)\n",
    "\n",
    "print(\"결합된 데이터가 'merged_output.csv'에 저장되었습니다.\")"
   ]
  },
  {
   "cell_type": "markdown",
   "metadata": {},
   "source": [
    "## ADNI3 metadata concat"
   ]
  },
  {
   "cell_type": "code",
   "execution_count": 44,
   "metadata": {},
   "outputs": [
    {
     "name": "stdout",
     "output_type": "stream",
     "text": [
      "PTID 기준으로 정렬된 데이터가 'metadatas/ADNI3_metadata.csv'에 저장되었습니다.\n"
     ]
    }
   ],
   "source": [
    "data1=pd.read_csv(\"metadatas/ADNI3_USB.csv\")\n",
    "data2=pd.read_csv(\"metadatas/merged_output_ADNI3_USB2.csv\")\n",
    "merged_data = pd.concat([data1, data2], ignore_index=True)\n",
    "\n",
    "sorted_data = merged_data.sort_values(by=\"PTID\")\n",
    "\n",
    "sorted_data.to_csv(\"metadatas/ADNI3_metadata.csv\", index=False)\n",
    "\n",
    "print(\"PTID 기준으로 정렬된 데이터가 'metadatas/ADNI3_metadata.csv'에 저장되었습니다.\")\n"
   ]
  },
  {
   "cell_type": "markdown",
   "metadata": {},
   "source": [
    "## 매핑 안되는 데이터들 처리"
   ]
  },
  {
   "cell_type": "code",
   "execution_count": null,
   "metadata": {},
   "outputs": [],
   "source": [
    "data1=pd.read_csv(\"metadatas/ADNI3_metadata.csv\")\n",
    "data2=pd.read_csv(\"metadatas/ADNI4_metadata.csv\")\n",
    "\n",
    "data1_cleaned=data1.dropna(subset=[\"PHASE\"])\n",
    "data2_cleaned=data2.dropna(subset=[\"PHASE\"])\n",
    "\n",
    "data1_cleaned.to_csv('metadatas/ADNI3_metadata_cleaned.csv',index=False)\n",
    "data2_cleaned.to_csv('metadatas/ADNI4_metadata_cleaned.csv',index=False)"
   ]
  }
 ],
 "metadata": {
  "kernelspec": {
   "display_name": "NRF",
   "language": "python",
   "name": "python3"
  },
  "language_info": {
   "codemirror_mode": {
    "name": "ipython",
    "version": 3
   },
   "file_extension": ".py",
   "mimetype": "text/x-python",
   "name": "python",
   "nbconvert_exporter": "python",
   "pygments_lexer": "ipython3",
   "version": "3.10.15"
  }
 },
 "nbformat": 4,
 "nbformat_minor": 2
}
